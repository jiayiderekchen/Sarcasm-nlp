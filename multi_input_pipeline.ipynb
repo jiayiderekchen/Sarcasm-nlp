{
  "nbformat": 4,
  "nbformat_minor": 0,
  "metadata": {
    "colab": {
      "name": "multi_input_pipeline.ipynb",
      "provenance": [],
      "collapsed_sections": [],
      "machine_shape": "hm",
      "authorship_tag": "ABX9TyOOpkOAmY1nFFbo1Y527/vO",
      "include_colab_link": true
    },
    "kernelspec": {
      "name": "python3",
      "display_name": "Python 3"
    },
    "accelerator": "GPU"
  },
  "cells": [
    {
      "cell_type": "markdown",
      "metadata": {
        "id": "view-in-github",
        "colab_type": "text"
      },
      "source": [
        "<a href=\"https://colab.research.google.com/github/talhaanwarch/Sarcasm-nlp/blob/master/multi_input_pipeline.ipynb\" target=\"_parent\"><img src=\"https://colab.research.google.com/assets/colab-badge.svg\" alt=\"Open In Colab\"/></a>"
      ]
    },
    {
      "cell_type": "code",
      "metadata": {
        "id": "QEyCb5A6ZJPE",
        "colab_type": "code",
        "outputId": "abefb1d7-0602-423c-b981-def423a31a88",
        "colab": {
          "base_uri": "https://localhost:8080/",
          "height": 35
        }
      },
      "source": [
        "from google.colab import drive\n",
        "drive.mount('/content/drive',force_remount=True)"
      ],
      "execution_count": 1,
      "outputs": [
        {
          "output_type": "stream",
          "text": [
            "Mounted at /content/drive\n"
          ],
          "name": "stdout"
        }
      ]
    },
    {
      "cell_type": "code",
      "metadata": {
        "id": "QaqyhlfA2nx2",
        "colab_type": "code",
        "colab": {}
      },
      "source": [
        "from tensorflow.keras.callbacks import Callback\n",
        "class CyclicLR(Callback):\n",
        "    \"\"\"This callback implements a cyclical learning rate policy (CLR).\n",
        "    The method cycles the learning rate between two boundaries with\n",
        "    some constant frequency, as detailed in this paper (https://arxiv.org/abs/1506.01186).\n",
        "    The amplitude of the cycle can be scaled on a per-iteration or \n",
        "    per-cycle basis.\n",
        "    This class has three built-in policies, as put forth in the paper.\n",
        "    \"triangular\":\n",
        "        A basic triangular cycle w/ no amplitude scaling.\n",
        "    \"triangular2\":\n",
        "        A basic triangular cycle that scales initial amplitude by half each cycle.\n",
        "    \"exp_range\":\n",
        "        A cycle that scales initial amplitude by gamma**(cycle iterations) at each \n",
        "        cycle iteration.\n",
        "    For more detail, please see paper.\n",
        "    \n",
        "    # Example\n",
        "        ```python\n",
        "            clr = CyclicLR(base_lr=0.001, max_lr=0.006,\n",
        "                                step_size=2000., mode='triangular')\n",
        "            model.fit(X_train, Y_train, callbacks=[clr])\n",
        "        ```\n",
        "    \n",
        "    Class also supports custom scaling functions:\n",
        "        ```python\n",
        "            clr_fn = lambda x: 0.5*(1+np.sin(x*np.pi/2.))\n",
        "            clr = CyclicLR(base_lr=0.001, max_lr=0.006,\n",
        "                                step_size=2000., scale_fn=clr_fn,\n",
        "                                scale_mode='cycle')\n",
        "            model.fit(X_train, Y_train, callbacks=[clr])\n",
        "        ```    \n",
        "    # Arguments\n",
        "        base_lr: initial learning rate which is the\n",
        "            lower boundary in the cycle.\n",
        "        max_lr: upper boundary in the cycle. Functionally,\n",
        "            it defines the cycle amplitude (max_lr - base_lr).\n",
        "            The lr at any cycle is the sum of base_lr\n",
        "            and some scaling of the amplitude; therefore \n",
        "            max_lr may not actually be reached depending on\n",
        "            scaling function.\n",
        "        step_size: number of training iterations per\n",
        "            half cycle. Authors suggest setting step_size\n",
        "            2-8 x training iterations in epoch.\n",
        "        mode: one of {triangular, triangular2, exp_range}.\n",
        "            Default 'triangular'.\n",
        "            Values correspond to policies detailed above.\n",
        "            If scale_fn is not None, this argument is ignored.\n",
        "        gamma: constant in 'exp_range' scaling function:\n",
        "            gamma**(cycle iterations)\n",
        "        scale_fn: Custom scaling policy defined by a single\n",
        "            argument lambda function, where \n",
        "            0 <= scale_fn(x) <= 1 for all x >= 0.\n",
        "            mode paramater is ignored \n",
        "        scale_mode: {'cycle', 'iterations'}.\n",
        "            Defines whether scale_fn is evaluated on \n",
        "            cycle number or cycle iterations (training\n",
        "            iterations since start of cycle). Default is 'cycle'.\n",
        "    \"\"\"\n",
        "\n",
        "    def __init__(self, base_lr=0.001, max_lr=0.006, step_size=2000., mode='triangular',\n",
        "                 gamma=1., scale_fn=None, scale_mode='cycle'):\n",
        "        super(CyclicLR, self).__init__()\n",
        "\n",
        "        self.base_lr = base_lr\n",
        "        self.max_lr = max_lr\n",
        "        self.step_size = step_size\n",
        "        self.mode = mode\n",
        "        self.gamma = gamma\n",
        "        if scale_fn == None:\n",
        "            if self.mode == 'triangular':\n",
        "                self.scale_fn = lambda x: 1.\n",
        "                self.scale_mode = 'cycle'\n",
        "            elif self.mode == 'triangular2':\n",
        "                self.scale_fn = lambda x: 1/(2.**(x-1))\n",
        "                self.scale_mode = 'cycle'\n",
        "            elif self.mode == 'exp_range':\n",
        "                self.scale_fn = lambda x: gamma**(x)\n",
        "                self.scale_mode = 'iterations'\n",
        "        else:\n",
        "            self.scale_fn = scale_fn\n",
        "            self.scale_mode = scale_mode\n",
        "        self.clr_iterations = 0.\n",
        "        self.trn_iterations = 0.\n",
        "        self.history = {}\n",
        "\n",
        "        self._reset()\n",
        "\n",
        "    def _reset(self, new_base_lr=None, new_max_lr=None,\n",
        "               new_step_size=None):\n",
        "        \"\"\"Resets cycle iterations.\n",
        "        Optional boundary/step size adjustment.\n",
        "        \"\"\"\n",
        "        if new_base_lr != None:\n",
        "            self.base_lr = new_base_lr\n",
        "        if new_max_lr != None:\n",
        "            self.max_lr = new_max_lr\n",
        "        if new_step_size != None:\n",
        "            self.step_size = new_step_size\n",
        "        self.clr_iterations = 0.\n",
        "        \n",
        "    def clr(self):\n",
        "        cycle = np.floor(1+self.clr_iterations/(2*self.step_size))\n",
        "        x = np.abs(self.clr_iterations/self.step_size - 2*cycle + 1)\n",
        "        if self.scale_mode == 'cycle':\n",
        "            return self.base_lr + (self.max_lr-self.base_lr)*np.maximum(0, (1-x))*self.scale_fn(cycle)\n",
        "        else:\n",
        "            return self.base_lr + (self.max_lr-self.base_lr)*np.maximum(0, (1-x))*self.scale_fn(self.clr_iterations)\n",
        "        \n",
        "    def on_train_begin(self, logs={}):\n",
        "        logs = logs or {}\n",
        "\n",
        "        if self.clr_iterations == 0:\n",
        "            K.set_value(self.model.optimizer.lr, self.base_lr)\n",
        "        else:\n",
        "            K.set_value(self.model.optimizer.lr, self.clr())        \n",
        "            \n",
        "    def on_batch_end(self, epoch, logs=None):\n",
        "        \n",
        "        logs = logs or {}\n",
        "        self.trn_iterations += 1\n",
        "        self.clr_iterations += 1\n",
        "\n",
        "        self.history.setdefault('lr', []).append(K.get_value(self.model.optimizer.lr))\n",
        "        self.history.setdefault('iterations', []).append(self.trn_iterations)\n",
        "\n",
        "        for k, v in logs.items():\n",
        "            self.history.setdefault(k, []).append(v)\n",
        "        \n",
        "        K.set_value(self.model.optimizer.lr, self.clr())"
      ],
      "execution_count": 0,
      "outputs": []
    },
    {
      "cell_type": "code",
      "metadata": {
        "id": "XzKqJQsHrYbC",
        "colab_type": "code",
        "colab": {
          "base_uri": "https://localhost:8080/",
          "height": 908
        },
        "outputId": "a38c3e35-283a-4c20-920a-aba8eb60068c"
      },
      "source": [
        "!pip install keras-tcn\n",
        "!pip install tensorflow==2.1.0\n"
      ],
      "execution_count": 2,
      "outputs": [
        {
          "output_type": "stream",
          "text": [
            "Collecting keras-one-cycle-lr\n",
            "  Downloading https://files.pythonhosted.org/packages/e1/a0/9a34d6514c11d6507ccd9fcbae65b356b38ec45b4b161a0f36d2f15e0e9b/keras_one_cycle_lr-0.0.1-py3-none-any.whl\n",
            "Installing collected packages: keras-one-cycle-lr\n",
            "Successfully installed keras-one-cycle-lr-0.0.1\n",
            "Requirement already satisfied: keras-tcn in /usr/local/lib/python3.6/dist-packages (3.0.1)\n",
            "Requirement already satisfied: numpy>=1.18.1 in /usr/local/lib/python3.6/dist-packages (from keras-tcn) (1.18.1)\n",
            "Requirement already satisfied: gast==0.2.2 in /usr/local/lib/python3.6/dist-packages (from keras-tcn) (0.2.2)\n",
            "Requirement already satisfied: keras>=2.3.1 in /usr/local/lib/python3.6/dist-packages (from keras-tcn) (2.3.1)\n",
            "Requirement already satisfied: scipy>=0.14 in /usr/local/lib/python3.6/dist-packages (from keras>=2.3.1->keras-tcn) (1.4.1)\n",
            "Requirement already satisfied: keras-applications>=1.0.6 in /usr/local/lib/python3.6/dist-packages (from keras>=2.3.1->keras-tcn) (1.0.8)\n",
            "Requirement already satisfied: six>=1.9.0 in /usr/local/lib/python3.6/dist-packages (from keras>=2.3.1->keras-tcn) (1.12.0)\n",
            "Requirement already satisfied: pyyaml in /usr/local/lib/python3.6/dist-packages (from keras>=2.3.1->keras-tcn) (3.13)\n",
            "Requirement already satisfied: keras-preprocessing>=1.0.5 in /usr/local/lib/python3.6/dist-packages (from keras>=2.3.1->keras-tcn) (1.1.0)\n",
            "Requirement already satisfied: h5py in /usr/local/lib/python3.6/dist-packages (from keras>=2.3.1->keras-tcn) (2.8.0)\n",
            "Requirement already satisfied: tensorflow==2.1.0 in /usr/local/lib/python3.6/dist-packages (2.1.0)\n",
            "Requirement already satisfied: gast==0.2.2 in /usr/local/lib/python3.6/dist-packages (from tensorflow==2.1.0) (0.2.2)\n",
            "Requirement already satisfied: keras-preprocessing>=1.1.0 in /usr/local/lib/python3.6/dist-packages (from tensorflow==2.1.0) (1.1.0)\n",
            "Requirement already satisfied: tensorboard<2.2.0,>=2.1.0 in /usr/local/lib/python3.6/dist-packages (from tensorflow==2.1.0) (2.1.1)\n",
            "Requirement already satisfied: numpy<2.0,>=1.16.0 in /usr/local/lib/python3.6/dist-packages (from tensorflow==2.1.0) (1.18.1)\n",
            "Requirement already satisfied: astor>=0.6.0 in /usr/local/lib/python3.6/dist-packages (from tensorflow==2.1.0) (0.8.1)\n",
            "Requirement already satisfied: wrapt>=1.11.1 in /usr/local/lib/python3.6/dist-packages (from tensorflow==2.1.0) (1.11.2)\n",
            "Requirement already satisfied: tensorflow-estimator<2.2.0,>=2.1.0rc0 in /usr/local/lib/python3.6/dist-packages (from tensorflow==2.1.0) (2.1.0)\n",
            "Requirement already satisfied: grpcio>=1.8.6 in /usr/local/lib/python3.6/dist-packages (from tensorflow==2.1.0) (1.27.1)\n",
            "Requirement already satisfied: protobuf>=3.8.0 in /usr/local/lib/python3.6/dist-packages (from tensorflow==2.1.0) (3.10.0)\n",
            "Requirement already satisfied: google-pasta>=0.1.6 in /usr/local/lib/python3.6/dist-packages (from tensorflow==2.1.0) (0.1.8)\n",
            "Requirement already satisfied: six>=1.12.0 in /usr/local/lib/python3.6/dist-packages (from tensorflow==2.1.0) (1.12.0)\n",
            "Requirement already satisfied: scipy==1.4.1; python_version >= \"3\" in /usr/local/lib/python3.6/dist-packages (from tensorflow==2.1.0) (1.4.1)\n",
            "Requirement already satisfied: termcolor>=1.1.0 in /usr/local/lib/python3.6/dist-packages (from tensorflow==2.1.0) (1.1.0)\n",
            "Requirement already satisfied: opt-einsum>=2.3.2 in /usr/local/lib/python3.6/dist-packages (from tensorflow==2.1.0) (3.1.0)\n",
            "Requirement already satisfied: absl-py>=0.7.0 in /usr/local/lib/python3.6/dist-packages (from tensorflow==2.1.0) (0.9.0)\n",
            "Requirement already satisfied: keras-applications>=1.0.8 in /usr/local/lib/python3.6/dist-packages (from tensorflow==2.1.0) (1.0.8)\n",
            "Requirement already satisfied: wheel>=0.26; python_version >= \"3\" in /usr/local/lib/python3.6/dist-packages (from tensorflow==2.1.0) (0.34.2)\n",
            "Requirement already satisfied: requests<3,>=2.21.0 in /usr/local/lib/python3.6/dist-packages (from tensorboard<2.2.0,>=2.1.0->tensorflow==2.1.0) (2.21.0)\n",
            "Requirement already satisfied: setuptools>=41.0.0 in /usr/local/lib/python3.6/dist-packages (from tensorboard<2.2.0,>=2.1.0->tensorflow==2.1.0) (45.2.0)\n",
            "Requirement already satisfied: google-auth-oauthlib<0.5,>=0.4.1 in /usr/local/lib/python3.6/dist-packages (from tensorboard<2.2.0,>=2.1.0->tensorflow==2.1.0) (0.4.1)\n",
            "Requirement already satisfied: werkzeug>=0.11.15 in /usr/local/lib/python3.6/dist-packages (from tensorboard<2.2.0,>=2.1.0->tensorflow==2.1.0) (1.0.0)\n",
            "Requirement already satisfied: markdown>=2.6.8 in /usr/local/lib/python3.6/dist-packages (from tensorboard<2.2.0,>=2.1.0->tensorflow==2.1.0) (3.2.1)\n",
            "Requirement already satisfied: google-auth<2,>=1.6.3 in /usr/local/lib/python3.6/dist-packages (from tensorboard<2.2.0,>=2.1.0->tensorflow==2.1.0) (1.7.2)\n",
            "Requirement already satisfied: h5py in /usr/local/lib/python3.6/dist-packages (from keras-applications>=1.0.8->tensorflow==2.1.0) (2.8.0)\n",
            "Requirement already satisfied: idna<2.9,>=2.5 in /usr/local/lib/python3.6/dist-packages (from requests<3,>=2.21.0->tensorboard<2.2.0,>=2.1.0->tensorflow==2.1.0) (2.8)\n",
            "Requirement already satisfied: chardet<3.1.0,>=3.0.2 in /usr/local/lib/python3.6/dist-packages (from requests<3,>=2.21.0->tensorboard<2.2.0,>=2.1.0->tensorflow==2.1.0) (3.0.4)\n",
            "Requirement already satisfied: certifi>=2017.4.17 in /usr/local/lib/python3.6/dist-packages (from requests<3,>=2.21.0->tensorboard<2.2.0,>=2.1.0->tensorflow==2.1.0) (2019.11.28)\n",
            "Requirement already satisfied: urllib3<1.25,>=1.21.1 in /usr/local/lib/python3.6/dist-packages (from requests<3,>=2.21.0->tensorboard<2.2.0,>=2.1.0->tensorflow==2.1.0) (1.24.3)\n",
            "Requirement already satisfied: requests-oauthlib>=0.7.0 in /usr/local/lib/python3.6/dist-packages (from google-auth-oauthlib<0.5,>=0.4.1->tensorboard<2.2.0,>=2.1.0->tensorflow==2.1.0) (1.3.0)\n",
            "Requirement already satisfied: rsa<4.1,>=3.1.4 in /usr/local/lib/python3.6/dist-packages (from google-auth<2,>=1.6.3->tensorboard<2.2.0,>=2.1.0->tensorflow==2.1.0) (4.0)\n",
            "Requirement already satisfied: cachetools<3.2,>=2.0.0 in /usr/local/lib/python3.6/dist-packages (from google-auth<2,>=1.6.3->tensorboard<2.2.0,>=2.1.0->tensorflow==2.1.0) (3.1.1)\n",
            "Requirement already satisfied: pyasn1-modules>=0.2.1 in /usr/local/lib/python3.6/dist-packages (from google-auth<2,>=1.6.3->tensorboard<2.2.0,>=2.1.0->tensorflow==2.1.0) (0.2.8)\n",
            "Requirement already satisfied: oauthlib>=3.0.0 in /usr/local/lib/python3.6/dist-packages (from requests-oauthlib>=0.7.0->google-auth-oauthlib<0.5,>=0.4.1->tensorboard<2.2.0,>=2.1.0->tensorflow==2.1.0) (3.1.0)\n",
            "Requirement already satisfied: pyasn1>=0.1.3 in /usr/local/lib/python3.6/dist-packages (from rsa<4.1,>=3.1.4->google-auth<2,>=1.6.3->tensorboard<2.2.0,>=2.1.0->tensorflow==2.1.0) (0.4.8)\n"
          ],
          "name": "stdout"
        }
      ]
    },
    {
      "cell_type": "code",
      "metadata": {
        "id": "z7gSHuuqaERd",
        "colab_type": "code",
        "outputId": "9fc793e8-8e4d-4874-f987-ceb26d47c3dc",
        "colab": {
          "base_uri": "https://localhost:8080/",
          "height": 35
        }
      },
      "source": [
        "cd /content/drive/My\\ Drive/dataset/sarcasm"
      ],
      "execution_count": 3,
      "outputs": [
        {
          "output_type": "stream",
          "text": [
            "/content/drive/My Drive/dataset/sarcasm\n"
          ],
          "name": "stdout"
        }
      ]
    },
    {
      "cell_type": "code",
      "metadata": {
        "id": "M9gGhXLcaW2Y",
        "colab_type": "code",
        "outputId": "56f6bf0f-0f50-43eb-9094-341f3b31f45d",
        "colab": {
          "base_uri": "https://localhost:8080/",
          "height": 141
        }
      },
      "source": [
        "ls"
      ],
      "execution_count": 4,
      "outputs": [
        {
          "output_type": "stream",
          "text": [
            "model_gru.png\n",
            "\u001b[0m\u001b[01;34m__pycache__\u001b[0m/\n",
            "sarcasm_detection_shared_task_reddit_testing.jsonl\n",
            "sarcasm_detection_shared_task_reddit_training.jsonl\n",
            "sarcasm_detection_shared_task_twitter_testing.jsonl\n",
            "sarcasm_detection_shared_task_twitter_training.jsonl\n",
            "tokenization.py\n"
          ],
          "name": "stdout"
        }
      ]
    },
    {
      "cell_type": "code",
      "metadata": {
        "id": "z_XH_TQ3f3dt",
        "colab_type": "code",
        "colab": {}
      },
      "source": [
        "import pandas as pd\n",
        "import numpy as np"
      ],
      "execution_count": 0,
      "outputs": []
    },
    {
      "cell_type": "code",
      "metadata": {
        "id": "DsQon6CBaXdP",
        "colab_type": "code",
        "colab": {}
      },
      "source": [
        "twitter_train=pd.read_json('sarcasm_detection_shared_task_twitter_training.jsonl',lines=True)"
      ],
      "execution_count": 0,
      "outputs": []
    },
    {
      "cell_type": "code",
      "metadata": {
        "id": "wYd47uZga3Z4",
        "colab_type": "code",
        "outputId": "5ce48e03-5f9f-4c9a-91b5-0ce1a15fef37",
        "colab": {
          "base_uri": "https://localhost:8080/",
          "height": 194
        }
      },
      "source": [
        "twitter_train.head()"
      ],
      "execution_count": 7,
      "outputs": [
        {
          "output_type": "execute_result",
          "data": {
            "text/html": [
              "<div>\n",
              "<style scoped>\n",
              "    .dataframe tbody tr th:only-of-type {\n",
              "        vertical-align: middle;\n",
              "    }\n",
              "\n",
              "    .dataframe tbody tr th {\n",
              "        vertical-align: top;\n",
              "    }\n",
              "\n",
              "    .dataframe thead th {\n",
              "        text-align: right;\n",
              "    }\n",
              "</style>\n",
              "<table border=\"1\" class=\"dataframe\">\n",
              "  <thead>\n",
              "    <tr style=\"text-align: right;\">\n",
              "      <th></th>\n",
              "      <th>label</th>\n",
              "      <th>response</th>\n",
              "      <th>context</th>\n",
              "    </tr>\n",
              "  </thead>\n",
              "  <tbody>\n",
              "    <tr>\n",
              "      <th>0</th>\n",
              "      <td>SARCASM</td>\n",
              "      <td>@USER @USER @USER I don't get this .. obviousl...</td>\n",
              "      <td>[A minor child deserves privacy and should be ...</td>\n",
              "    </tr>\n",
              "    <tr>\n",
              "      <th>1</th>\n",
              "      <td>SARCASM</td>\n",
              "      <td>@USER @USER trying to protest about . Talking ...</td>\n",
              "      <td>[@USER @USER Why is he a loser ? He's just a P...</td>\n",
              "    </tr>\n",
              "    <tr>\n",
              "      <th>2</th>\n",
              "      <td>SARCASM</td>\n",
              "      <td>@USER @USER @USER He makes an insane about of ...</td>\n",
              "      <td>[Donald J . Trump is guilty as charged . The e...</td>\n",
              "    </tr>\n",
              "    <tr>\n",
              "      <th>3</th>\n",
              "      <td>SARCASM</td>\n",
              "      <td>@USER @USER Meanwhile Trump won't even release...</td>\n",
              "      <td>[Jamie Raskin tanked Doug Collins . Collins lo...</td>\n",
              "    </tr>\n",
              "    <tr>\n",
              "      <th>4</th>\n",
              "      <td>SARCASM</td>\n",
              "      <td>@USER @USER Pretty Sure the Anti-Lincoln Crowd...</td>\n",
              "      <td>[Man ... y ’ all gone “ both sides ” the apoca...</td>\n",
              "    </tr>\n",
              "  </tbody>\n",
              "</table>\n",
              "</div>"
            ],
            "text/plain": [
              "     label  ...                                            context\n",
              "0  SARCASM  ...  [A minor child deserves privacy and should be ...\n",
              "1  SARCASM  ...  [@USER @USER Why is he a loser ? He's just a P...\n",
              "2  SARCASM  ...  [Donald J . Trump is guilty as charged . The e...\n",
              "3  SARCASM  ...  [Jamie Raskin tanked Doug Collins . Collins lo...\n",
              "4  SARCASM  ...  [Man ... y ’ all gone “ both sides ” the apoca...\n",
              "\n",
              "[5 rows x 3 columns]"
            ]
          },
          "metadata": {
            "tags": []
          },
          "execution_count": 7
        }
      ]
    },
    {
      "cell_type": "code",
      "metadata": {
        "id": "t9jeCHvobEHg",
        "colab_type": "code",
        "colab": {}
      },
      "source": [
        "twitter_train['response']=twitter_train['response'].str.replace('@USER', \"\") \n",
        "twitter_train['response']=twitter_train['response'].str.replace('\\d+', '')\n",
        "twitter_train['response']=twitter_train['response'].str.lower()\n",
        "twitter_train['response']=twitter_train['response'].str.replace('[^\\w\\s]','')\n"
      ],
      "execution_count": 0,
      "outputs": []
    },
    {
      "cell_type": "code",
      "metadata": {
        "id": "rVRY4qxwckM7",
        "colab_type": "code",
        "outputId": "5d02ac21-eb70-4d7e-f38e-beb345b8c868",
        "colab": {
          "base_uri": "https://localhost:8080/",
          "height": 194
        }
      },
      "source": [
        "twitter_train.head()"
      ],
      "execution_count": 9,
      "outputs": [
        {
          "output_type": "execute_result",
          "data": {
            "text/html": [
              "<div>\n",
              "<style scoped>\n",
              "    .dataframe tbody tr th:only-of-type {\n",
              "        vertical-align: middle;\n",
              "    }\n",
              "\n",
              "    .dataframe tbody tr th {\n",
              "        vertical-align: top;\n",
              "    }\n",
              "\n",
              "    .dataframe thead th {\n",
              "        text-align: right;\n",
              "    }\n",
              "</style>\n",
              "<table border=\"1\" class=\"dataframe\">\n",
              "  <thead>\n",
              "    <tr style=\"text-align: right;\">\n",
              "      <th></th>\n",
              "      <th>label</th>\n",
              "      <th>response</th>\n",
              "      <th>context</th>\n",
              "    </tr>\n",
              "  </thead>\n",
              "  <tbody>\n",
              "    <tr>\n",
              "      <th>0</th>\n",
              "      <td>SARCASM</td>\n",
              "      <td>i dont get this  obviously you do care or y...</td>\n",
              "      <td>[A minor child deserves privacy and should be ...</td>\n",
              "    </tr>\n",
              "    <tr>\n",
              "      <th>1</th>\n",
              "      <td>SARCASM</td>\n",
              "      <td>trying to protest about  talking about him a...</td>\n",
              "      <td>[@USER @USER Why is he a loser ? He's just a P...</td>\n",
              "    </tr>\n",
              "    <tr>\n",
              "      <th>2</th>\n",
              "      <td>SARCASM</td>\n",
              "      <td>he makes an insane about of money from the ...</td>\n",
              "      <td>[Donald J . Trump is guilty as charged . The e...</td>\n",
              "    </tr>\n",
              "    <tr>\n",
              "      <th>3</th>\n",
              "      <td>SARCASM</td>\n",
              "      <td>meanwhile trump wont even release his sat sc...</td>\n",
              "      <td>[Jamie Raskin tanked Doug Collins . Collins lo...</td>\n",
              "    </tr>\n",
              "    <tr>\n",
              "      <th>4</th>\n",
              "      <td>SARCASM</td>\n",
              "      <td>pretty sure the antilincoln crowd claimed th...</td>\n",
              "      <td>[Man ... y ’ all gone “ both sides ” the apoca...</td>\n",
              "    </tr>\n",
              "  </tbody>\n",
              "</table>\n",
              "</div>"
            ],
            "text/plain": [
              "     label  ...                                            context\n",
              "0  SARCASM  ...  [A minor child deserves privacy and should be ...\n",
              "1  SARCASM  ...  [@USER @USER Why is he a loser ? He's just a P...\n",
              "2  SARCASM  ...  [Donald J . Trump is guilty as charged . The e...\n",
              "3  SARCASM  ...  [Jamie Raskin tanked Doug Collins . Collins lo...\n",
              "4  SARCASM  ...  [Man ... y ’ all gone “ both sides ” the apoca...\n",
              "\n",
              "[5 rows x 3 columns]"
            ]
          },
          "metadata": {
            "tags": []
          },
          "execution_count": 9
        }
      ]
    },
    {
      "cell_type": "code",
      "metadata": {
        "id": "09EVo02McTQi",
        "colab_type": "code",
        "colab": {}
      },
      "source": [
        "twitter_train['context']=twitter_train['context'].apply(lambda x: ','.join(map(str, x)))\n",
        "twitter_train['context']=twitter_train['context'].str.replace('@USER', \"\") \n",
        "twitter_train['context']=twitter_train['context'].str.lower()\n",
        "twitter_train['context']=twitter_train['context'].str.replace('[^\\w\\s]','')\n",
        "twitter_train['context']=twitter_train['context'].str.replace('\\d+', '')\n"
      ],
      "execution_count": 0,
      "outputs": []
    },
    {
      "cell_type": "code",
      "metadata": {
        "id": "OM581aywcU06",
        "colab_type": "code",
        "outputId": "1f7b1e13-6568-44ef-d079-317ff39a1c13",
        "colab": {
          "base_uri": "https://localhost:8080/",
          "height": 194
        }
      },
      "source": [
        "twitter_train.head()"
      ],
      "execution_count": 11,
      "outputs": [
        {
          "output_type": "execute_result",
          "data": {
            "text/html": [
              "<div>\n",
              "<style scoped>\n",
              "    .dataframe tbody tr th:only-of-type {\n",
              "        vertical-align: middle;\n",
              "    }\n",
              "\n",
              "    .dataframe tbody tr th {\n",
              "        vertical-align: top;\n",
              "    }\n",
              "\n",
              "    .dataframe thead th {\n",
              "        text-align: right;\n",
              "    }\n",
              "</style>\n",
              "<table border=\"1\" class=\"dataframe\">\n",
              "  <thead>\n",
              "    <tr style=\"text-align: right;\">\n",
              "      <th></th>\n",
              "      <th>label</th>\n",
              "      <th>response</th>\n",
              "      <th>context</th>\n",
              "    </tr>\n",
              "  </thead>\n",
              "  <tbody>\n",
              "    <tr>\n",
              "      <th>0</th>\n",
              "      <td>SARCASM</td>\n",
              "      <td>i dont get this  obviously you do care or y...</td>\n",
              "      <td>a minor child deserves privacy and should be k...</td>\n",
              "    </tr>\n",
              "    <tr>\n",
              "      <th>1</th>\n",
              "      <td>SARCASM</td>\n",
              "      <td>trying to protest about  talking about him a...</td>\n",
              "      <td>why is he a loser  hes just a press secretar...</td>\n",
              "    </tr>\n",
              "    <tr>\n",
              "      <th>2</th>\n",
              "      <td>SARCASM</td>\n",
              "      <td>he makes an insane about of money from the ...</td>\n",
              "      <td>donald j  trump is guilty as charged  the evid...</td>\n",
              "    </tr>\n",
              "    <tr>\n",
              "      <th>3</th>\n",
              "      <td>SARCASM</td>\n",
              "      <td>meanwhile trump wont even release his sat sc...</td>\n",
              "      <td>jamie raskin tanked doug collins  collins look...</td>\n",
              "    </tr>\n",
              "    <tr>\n",
              "      <th>4</th>\n",
              "      <td>SARCASM</td>\n",
              "      <td>pretty sure the antilincoln crowd claimed th...</td>\n",
              "      <td>man  y  all gone  both sides  the apocalypse o...</td>\n",
              "    </tr>\n",
              "  </tbody>\n",
              "</table>\n",
              "</div>"
            ],
            "text/plain": [
              "     label  ...                                            context\n",
              "0  SARCASM  ...  a minor child deserves privacy and should be k...\n",
              "1  SARCASM  ...    why is he a loser  hes just a press secretar...\n",
              "2  SARCASM  ...  donald j  trump is guilty as charged  the evid...\n",
              "3  SARCASM  ...  jamie raskin tanked doug collins  collins look...\n",
              "4  SARCASM  ...  man  y  all gone  both sides  the apocalypse o...\n",
              "\n",
              "[5 rows x 3 columns]"
            ]
          },
          "metadata": {
            "tags": []
          },
          "execution_count": 11
        }
      ]
    },
    {
      "cell_type": "code",
      "metadata": {
        "id": "MmnTp_4dMP6_",
        "colab_type": "code",
        "colab": {
          "base_uri": "https://localhost:8080/",
          "height": 194
        },
        "outputId": "cbc5f0bb-9de8-4376-a65f-4a799f874bec"
      },
      "source": [
        "twitter_test=pd.read_json('sarcasm_detection_shared_task_twitter_testing.jsonl',lines=True)\n",
        "twitter_test.head()"
      ],
      "execution_count": 12,
      "outputs": [
        {
          "output_type": "execute_result",
          "data": {
            "text/html": [
              "<div>\n",
              "<style scoped>\n",
              "    .dataframe tbody tr th:only-of-type {\n",
              "        vertical-align: middle;\n",
              "    }\n",
              "\n",
              "    .dataframe tbody tr th {\n",
              "        vertical-align: top;\n",
              "    }\n",
              "\n",
              "    .dataframe thead th {\n",
              "        text-align: right;\n",
              "    }\n",
              "</style>\n",
              "<table border=\"1\" class=\"dataframe\">\n",
              "  <thead>\n",
              "    <tr style=\"text-align: right;\">\n",
              "      <th></th>\n",
              "      <th>context</th>\n",
              "      <th>response</th>\n",
              "      <th>id</th>\n",
              "    </tr>\n",
              "  </thead>\n",
              "  <tbody>\n",
              "    <tr>\n",
              "      <th>0</th>\n",
              "      <td>[Well now that ’ s problematic AF &lt;URL&gt;, @USER...</td>\n",
              "      <td>@USER @USER @USER My 3 year old , that just fi...</td>\n",
              "      <td>twitter_1</td>\n",
              "    </tr>\n",
              "    <tr>\n",
              "      <th>1</th>\n",
              "      <td>[Last week the Fake News said that a section o...</td>\n",
              "      <td>@USER @USER How many verifiable lies has he to...</td>\n",
              "      <td>twitter_2</td>\n",
              "    </tr>\n",
              "    <tr>\n",
              "      <th>2</th>\n",
              "      <td>[@USER Let ’ s Aplaud Brett When he deserves i...</td>\n",
              "      <td>@USER @USER @USER Maybe Docs just a scrub of a...</td>\n",
              "      <td>twitter_3</td>\n",
              "    </tr>\n",
              "    <tr>\n",
              "      <th>3</th>\n",
              "      <td>[Women generally hate this president . What's ...</td>\n",
              "      <td>@USER @USER is just a cover up for the real ha...</td>\n",
              "      <td>twitter_4</td>\n",
              "    </tr>\n",
              "    <tr>\n",
              "      <th>4</th>\n",
              "      <td>[Dear media Remoaners , you excitedly sharing ...</td>\n",
              "      <td>@USER @USER @USER The irony being that he even...</td>\n",
              "      <td>twitter_5</td>\n",
              "    </tr>\n",
              "  </tbody>\n",
              "</table>\n",
              "</div>"
            ],
            "text/plain": [
              "                                             context  ...         id\n",
              "0  [Well now that ’ s problematic AF <URL>, @USER...  ...  twitter_1\n",
              "1  [Last week the Fake News said that a section o...  ...  twitter_2\n",
              "2  [@USER Let ’ s Aplaud Brett When he deserves i...  ...  twitter_3\n",
              "3  [Women generally hate this president . What's ...  ...  twitter_4\n",
              "4  [Dear media Remoaners , you excitedly sharing ...  ...  twitter_5\n",
              "\n",
              "[5 rows x 3 columns]"
            ]
          },
          "metadata": {
            "tags": []
          },
          "execution_count": 12
        }
      ]
    },
    {
      "cell_type": "code",
      "metadata": {
        "id": "PabO109hMQY4",
        "colab_type": "code",
        "colab": {}
      },
      "source": [
        "twitter_test['response']=twitter_test['response'].str.replace('@USER', \"\") \n",
        "twitter_test['response']=twitter_test['response'].str.replace('\\d+', '')\n",
        "twitter_test['response']=twitter_test['response'].str.lower()\n",
        "twitter_test['response']=twitter_test['response'].str.replace('[^\\w\\s]','')\n",
        "twitter_test['context']=twitter_test['context'].apply(lambda x: ','.join(map(str, x)))\n",
        "twitter_test['context']=twitter_test['context'].str.replace('@USER', \"\") \n",
        "twitter_test['context']=twitter_test['context'].str.lower()\n",
        "twitter_test['context']=twitter_test['context'].str.replace('[^\\w\\s]','')\n",
        "twitter_test['context']=twitter_test['context'].str.replace('\\d+', '')\n"
      ],
      "execution_count": 0,
      "outputs": []
    },
    {
      "cell_type": "code",
      "metadata": {
        "id": "FAzapEnwcHPK",
        "colab_type": "code",
        "outputId": "1abf07d1-b163-41b1-b30f-24cb1ed4ee2b",
        "colab": {
          "base_uri": "https://localhost:8080/",
          "height": 35
        }
      },
      "source": [
        "len(twitter_train)"
      ],
      "execution_count": 14,
      "outputs": [
        {
          "output_type": "execute_result",
          "data": {
            "text/plain": [
              "5000"
            ]
          },
          "metadata": {
            "tags": []
          },
          "execution_count": 14
        }
      ]
    },
    {
      "cell_type": "code",
      "metadata": {
        "id": "aOggGwl_tzyF",
        "colab_type": "code",
        "outputId": "a9f41239-6a8d-47a6-ca4d-d37d9d25eb4f",
        "colab": {
          "base_uri": "https://localhost:8080/",
          "height": 35
        }
      },
      "source": [
        "from collections import Counter\n",
        "Counter(twitter_train['label'])"
      ],
      "execution_count": 15,
      "outputs": [
        {
          "output_type": "execute_result",
          "data": {
            "text/plain": [
              "Counter({'NOT_SARCASM': 2500, 'SARCASM': 2500})"
            ]
          },
          "metadata": {
            "tags": []
          },
          "execution_count": 15
        }
      ]
    },
    {
      "cell_type": "code",
      "metadata": {
        "id": "QPlJPrRQsUnk",
        "colab_type": "code",
        "colab": {}
      },
      "source": [
        "from sklearn.preprocessing import LabelEncoder\n",
        "le=LabelEncoder()\n",
        "train_label=le.fit_transform(twitter_train['label'])"
      ],
      "execution_count": 0,
      "outputs": []
    },
    {
      "cell_type": "markdown",
      "metadata": {
        "id": "8vVdvBVGMKAU",
        "colab_type": "text"
      },
      "source": [
        "#Tokenization"
      ]
    },
    {
      "cell_type": "code",
      "metadata": {
        "id": "pHmjL4FWML_U",
        "colab_type": "code",
        "colab": {}
      },
      "source": [
        "from tensorflow.keras.preprocessing import sequence\n",
        "from tensorflow.keras.preprocessing.text import Tokenizer\n",
        "max_words = 10000 #frequency of words to be kept\n",
        "max_len = 150\n",
        "\n",
        "tokenize = Tokenizer(num_words=max_words)\n",
        "tokenize.fit_on_texts(pd.concat([twitter_train['context'],twitter_train['response']]))\n",
        "train_sequences_context = tokenize.texts_to_sequences(twitter_train['context'])\n",
        "train_sequences_response = tokenize.texts_to_sequences(twitter_train['response'])\n",
        "\n",
        "test_sequences_context = tokenize.texts_to_sequences(twitter_test['context'])\n",
        "test_sequences_response = tokenize.texts_to_sequences(twitter_test['response'])\n",
        "\n",
        "word_index = tokenize.word_index\n"
      ],
      "execution_count": 0,
      "outputs": []
    },
    {
      "cell_type": "code",
      "metadata": {
        "id": "i6EtGtlTMvOi",
        "colab_type": "code",
        "colab": {}
      },
      "source": [
        "train_sequences_context = sequence.pad_sequences(train_sequences_context,maxlen=max_len,padding='post')\n",
        "train_sequences_response = sequence.pad_sequences(train_sequences_response,maxlen=max_len,padding='post')\n",
        "\n",
        "test_sequences_context = sequence.pad_sequences(test_sequences_context,maxlen=max_len,padding='post')\n",
        "test_sequences_response = sequence.pad_sequences(test_sequences_response,maxlen=max_len,padding='post')"
      ],
      "execution_count": 0,
      "outputs": []
    },
    {
      "cell_type": "code",
      "metadata": {
        "id": "ooA29PkGNdj5",
        "colab_type": "code",
        "colab": {
          "base_uri": "https://localhost:8080/",
          "height": 35
        },
        "outputId": "413e1dea-5783-43cb-95c4-3b55abb703bc"
      },
      "source": [
        "\n",
        "embeddings=np.load('/content/drive/My Drive/dataset/OffenseEval2020/data/English/en_embeddings.npy')\n",
        "embeddings.shape"
      ],
      "execution_count": 19,
      "outputs": [
        {
          "output_type": "execute_result",
          "data": {
            "text/plain": [
              "(10001, 300)"
            ]
          },
          "metadata": {
            "tags": []
          },
          "execution_count": 19
        }
      ]
    },
    {
      "cell_type": "code",
      "metadata": {
        "id": "8WG_oZqONeSr",
        "colab_type": "code",
        "colab": {
          "base_uri": "https://localhost:8080/",
          "height": 35
        },
        "outputId": "45211ab3-d61d-435b-c6a9-4c23e4fd7558"
      },
      "source": [
        "num_words = min(max_words, len(word_index)) + 1\n",
        "print(num_words)\n",
        "embed_size=300"
      ],
      "execution_count": 20,
      "outputs": [
        {
          "output_type": "stream",
          "text": [
            "10001\n"
          ],
          "name": "stdout"
        }
      ]
    },
    {
      "cell_type": "markdown",
      "metadata": {
        "id": "cq6ibth_et3B",
        "colab_type": "text"
      },
      "source": [
        "#Model"
      ]
    },
    {
      "cell_type": "code",
      "metadata": {
        "id": "epLdmX34iQBy",
        "colab_type": "code",
        "colab": {}
      },
      "source": [
        "from tensorflow.keras.models import Model\n",
        "from tensorflow.keras.layers import Input,concatenate,Dense,Embedding,SpatialDropout1D,Bidirectional,LSTM,GRU,GlobalAveragePooling1D,GlobalMaxPooling1D,Dropout\n",
        "from tensorflow.keras.optimizers import Adam\n",
        "from tensorflow.keras.initializers import Constant\n",
        "import tensorflow as tf\n",
        "import tensorflow.keras.backend as K\n",
        "from sklearn.model_selection import StratifiedKFold\n",
        "from sklearn.metrics import f1_score"
      ],
      "execution_count": 0,
      "outputs": []
    },
    {
      "cell_type": "code",
      "metadata": {
        "id": "9JQJxf7h21Rg",
        "colab_type": "code",
        "colab": {}
      },
      "source": [
        "\n",
        "clr = CyclicLR(base_lr=0.0001, max_lr=0.005,\n",
        "                        step_size=4., mode='exp_range',\n",
        "                        gamma=0.99994)\n",
        "\n",
        "reduce_lr = tf.keras.callbacks.ReduceLROnPlateau(monitor='val_loss', factor=0.2,\n",
        "                              patience=2, min_lr=0.00001)"
      ],
      "execution_count": 0,
      "outputs": []
    },
    {
      "cell_type": "code",
      "metadata": {
        "id": "P6sF97LYki-9",
        "colab_type": "code",
        "colab": {}
      },
      "source": [
        "def model_gru():\n",
        "  inp1 = Input(shape=(max_len,))\n",
        "  inp2 = Input(shape=(max_len,))\n",
        "  x1 = Embedding(num_words,embed_size,embeddings_initializer=Constant(embeddings),input_length=max_len,trainable=False)(inp1)\n",
        "  x1 = SpatialDropout1D(0.1)(x1)\n",
        "  x1 = Bidirectional(LSTM(50, return_sequences=True))(x1)\n",
        "  x1 = Bidirectional(GRU(50, activation= 'tanh',recurrent_activation ='sigmoid',recurrent_dropout=0,\n",
        "                      unroll =False,use_bias =True,reset_after=True,return_sequences = True))(x1)\n",
        "  avg_pool1 = GlobalAveragePooling1D()(x1)\n",
        "  max_pool1 = GlobalMaxPooling1D()(x1)\n",
        "  conc1 = concatenate([avg_pool1,  max_pool1])\n",
        "  fc1=Dense(20,activation='tanh')(conc1)\n",
        "\n",
        "\n",
        "  x2 = Embedding(num_words,embed_size,embeddings_initializer=Constant(embeddings),input_length=max_len,trainable=False)(inp2)\n",
        "  x2 = SpatialDropout1D(0.1)(x2)\n",
        "  x2 = Bidirectional(LSTM(50, return_sequences=True))(x2)\n",
        "  x2 = Bidirectional(GRU(50, activation= 'tanh',recurrent_activation ='sigmoid',recurrent_dropout=0,\n",
        "                      unroll =False,use_bias =True,reset_after=True,return_sequences = True))(x2)\n",
        "  avg_pool2 = GlobalAveragePooling1D()(x2)\n",
        "  max_pool2 = GlobalMaxPooling1D()(x2)\n",
        "  conc2 = concatenate([avg_pool2,  max_pool2])\n",
        "  fc2=Dense(20,activation='tanh')(conc2)\n",
        "\n",
        "  out=concatenate([fc1,fc2])\n",
        "  drp=Dropout(0.25)(out)\n",
        "  outfc=Dense(10,activation='tanh')(drp)\n",
        "  outp = Dense(1, activation=\"sigmoid\")(outfc)    \n",
        "  model = Model(inputs=[inp1,inp2], outputs=outp)\n",
        "  model.compile(loss='binary_crossentropy', optimizer='adam', metrics=['accuracy'])\n",
        "  return model"
      ],
      "execution_count": 0,
      "outputs": []
    },
    {
      "cell_type": "code",
      "metadata": {
        "id": "ZfyPLrOhr81l",
        "colab_type": "code",
        "colab": {
          "base_uri": "https://localhost:8080/",
          "height": 1000
        },
        "outputId": "3a13cb40-4596-4ebb-b276-4bc159c6c355"
      },
      "source": [
        "tf.keras.utils.plot_model(model_gru(), to_file='model_gru.png')"
      ],
      "execution_count": 28,
      "outputs": [
        {
          "output_type": "execute_result",
          "data": {
            "image/png": "[encoded data removed]",
            "text/plain": [
              "<IPython.core.display.Image object>"
            ]
          },
          "metadata": {
            "tags": []
          },
          "execution_count": 28
        }
      ]
    },
    {
      "cell_type": "code",
      "metadata": {
        "id": "cp_xKO6QtYQ2",
        "colab_type": "code",
        "colab": {
          "base_uri": "https://localhost:8080/",
          "height": 1000
        },
        "outputId": "6abdad6c-0a46-4294-c04d-a032b0bb8133"
      },
      "source": [
        "kfold = StratifiedKFold(n_splits=5, shuffle=False)\n",
        "gru_scores = []\n",
        "gru_test=[]\n",
        "for train, val in kfold.split(list(zip(train_sequences_context,train_sequences_response)), train_label):\n",
        "  gru_model=model_gru()\n",
        "  print(len(train),len(val))\n",
        "  gru_model.fit([train_sequences_context[train],train_sequences_response[train]],train_label[train],batch_size=64,epochs=10,verbose=2,\n",
        "            validation_data=([train_sequences_context[val],train_sequences_response[val]], train_label[val]),callbacks=[reduce_lr])\n",
        "   \n",
        "\n",
        "  y_pred = gru_model.predict([train_sequences_context[val],train_sequences_response[val]], batch_size=64, verbose=1)\n",
        "\n",
        "  gru_test.append(gru_model.predict([test_sequences_context,test_sequences_response], batch_size=64, verbose=1).ravel())\n",
        "\n",
        "  y_pred = (y_pred > 0.5)\n",
        "  f1=f1_score(train_label[val], y_pred, average='macro')\n",
        "  gru_scores.append(f1)\n",
        "  tf.keras.backend.clear_session()"
      ],
      "execution_count": 39,
      "outputs": [
        {
          "output_type": "stream",
          "text": [
            "4000 1000\n",
            "Train on 4000 samples, validate on 1000 samples\n",
            "Epoch 1/10\n",
            "4000/4000 - 31s - loss: 0.6703 - accuracy: 0.5815 - val_loss: 0.6374 - val_accuracy: 0.6500\n",
            "Epoch 2/10\n",
            "4000/4000 - 20s - loss: 0.6343 - accuracy: 0.6463 - val_loss: 0.6227 - val_accuracy: 0.6560\n",
            "Epoch 3/10\n",
            "4000/4000 - 19s - loss: 0.5843 - accuracy: 0.6955 - val_loss: 0.5918 - val_accuracy: 0.6820\n",
            "Epoch 4/10\n",
            "4000/4000 - 19s - loss: 0.5355 - accuracy: 0.7405 - val_loss: 0.5860 - val_accuracy: 0.6980\n",
            "Epoch 5/10\n",
            "4000/4000 - 19s - loss: 0.4861 - accuracy: 0.7670 - val_loss: 0.6350 - val_accuracy: 0.6810\n",
            "Epoch 6/10\n",
            "4000/4000 - 19s - loss: 0.4093 - accuracy: 0.8238 - val_loss: 0.6288 - val_accuracy: 0.6910\n",
            "Epoch 7/10\n",
            "4000/4000 - 19s - loss: 0.3122 - accuracy: 0.8832 - val_loss: 0.6214 - val_accuracy: 0.6840\n",
            "Epoch 8/10\n",
            "4000/4000 - 19s - loss: 0.2764 - accuracy: 0.9000 - val_loss: 0.6484 - val_accuracy: 0.6960\n",
            "Epoch 9/10\n",
            "4000/4000 - 19s - loss: 0.2397 - accuracy: 0.9218 - val_loss: 0.6430 - val_accuracy: 0.6740\n",
            "Epoch 10/10\n",
            "4000/4000 - 19s - loss: 0.2382 - accuracy: 0.9218 - val_loss: 0.6456 - val_accuracy: 0.6770\n",
            "1000/1000 [==============================] - 4s 4ms/sample\n",
            "1800/1800 [==============================] - 4s 2ms/sample\n",
            "4000 1000\n",
            "Train on 4000 samples, validate on 1000 samples\n",
            "Epoch 1/10\n",
            "4000/4000 - 31s - loss: 0.6843 - accuracy: 0.5567 - val_loss: 0.6463 - val_accuracy: 0.6250\n",
            "Epoch 2/10\n",
            "4000/4000 - 19s - loss: 0.6390 - accuracy: 0.6395 - val_loss: 0.6048 - val_accuracy: 0.6890\n",
            "Epoch 3/10\n",
            "4000/4000 - 19s - loss: 0.5950 - accuracy: 0.6787 - val_loss: 0.5763 - val_accuracy: 0.6900\n",
            "Epoch 4/10\n",
            "4000/4000 - 19s - loss: 0.5382 - accuracy: 0.7297 - val_loss: 0.5736 - val_accuracy: 0.7030\n",
            "Epoch 5/10\n",
            "4000/4000 - 19s - loss: 0.4787 - accuracy: 0.7710 - val_loss: 0.5997 - val_accuracy: 0.6880\n",
            "Epoch 6/10\n",
            "4000/4000 - 19s - loss: 0.4205 - accuracy: 0.8045 - val_loss: 0.6750 - val_accuracy: 0.6610\n",
            "Epoch 7/10\n",
            "4000/4000 - 19s - loss: 0.3217 - accuracy: 0.8745 - val_loss: 0.5886 - val_accuracy: 0.7120\n",
            "Epoch 8/10\n",
            "4000/4000 - 19s - loss: 0.2679 - accuracy: 0.9103 - val_loss: 0.6114 - val_accuracy: 0.7160\n",
            "Epoch 9/10\n",
            "4000/4000 - 19s - loss: 0.2351 - accuracy: 0.9218 - val_loss: 0.6122 - val_accuracy: 0.7210\n",
            "Epoch 10/10\n",
            "4000/4000 - 19s - loss: 0.2321 - accuracy: 0.9212 - val_loss: 0.6177 - val_accuracy: 0.7200\n",
            "1000/1000 [==============================] - 4s 4ms/sample\n",
            "1800/1800 [==============================] - 4s 2ms/sample\n",
            "4000 1000\n",
            "Train on 4000 samples, validate on 1000 samples\n",
            "Epoch 1/10\n",
            "4000/4000 - 30s - loss: 0.6810 - accuracy: 0.5565 - val_loss: 0.6855 - val_accuracy: 0.5710\n",
            "Epoch 2/10\n",
            "4000/4000 - 19s - loss: 0.6363 - accuracy: 0.6425 - val_loss: 0.6674 - val_accuracy: 0.6100\n",
            "Epoch 3/10\n",
            "4000/4000 - 19s - loss: 0.5891 - accuracy: 0.6873 - val_loss: 0.6365 - val_accuracy: 0.6300\n",
            "Epoch 4/10\n",
            "4000/4000 - 19s - loss: 0.5470 - accuracy: 0.7230 - val_loss: 0.6272 - val_accuracy: 0.6680\n",
            "Epoch 5/10\n",
            "4000/4000 - 19s - loss: 0.4861 - accuracy: 0.7653 - val_loss: 0.6835 - val_accuracy: 0.6400\n",
            "Epoch 6/10\n",
            "4000/4000 - 19s - loss: 0.4326 - accuracy: 0.8018 - val_loss: 0.6798 - val_accuracy: 0.6660\n",
            "Epoch 7/10\n",
            "4000/4000 - 19s - loss: 0.3310 - accuracy: 0.8735 - val_loss: 0.6848 - val_accuracy: 0.6910\n",
            "Epoch 8/10\n",
            "4000/4000 - 19s - loss: 0.2993 - accuracy: 0.8905 - val_loss: 0.6969 - val_accuracy: 0.6800\n",
            "Epoch 9/10\n",
            "4000/4000 - 19s - loss: 0.2657 - accuracy: 0.9093 - val_loss: 0.7032 - val_accuracy: 0.6810\n",
            "Epoch 10/10\n",
            "4000/4000 - 19s - loss: 0.2612 - accuracy: 0.9007 - val_loss: 0.7077 - val_accuracy: 0.6780\n",
            "1000/1000 [==============================] - 4s 4ms/sample\n",
            "1800/1800 [==============================] - 4s 2ms/sample\n",
            "4000 1000\n",
            "Train on 4000 samples, validate on 1000 samples\n",
            "Epoch 1/10\n",
            "4000/4000 - 30s - loss: 0.6882 - accuracy: 0.5545 - val_loss: 0.6459 - val_accuracy: 0.6760\n",
            "Epoch 2/10\n",
            "4000/4000 - 19s - loss: 0.6371 - accuracy: 0.6375 - val_loss: 0.6113 - val_accuracy: 0.6630\n",
            "Epoch 3/10\n",
            "4000/4000 - 19s - loss: 0.5927 - accuracy: 0.6900 - val_loss: 0.5707 - val_accuracy: 0.7070\n",
            "Epoch 4/10\n",
            "4000/4000 - 19s - loss: 0.5512 - accuracy: 0.7268 - val_loss: 0.5490 - val_accuracy: 0.7220\n",
            "Epoch 5/10\n",
            "4000/4000 - 19s - loss: 0.4950 - accuracy: 0.7625 - val_loss: 0.5330 - val_accuracy: 0.7360\n",
            "Epoch 6/10\n",
            "4000/4000 - 19s - loss: 0.4268 - accuracy: 0.8100 - val_loss: 0.5546 - val_accuracy: 0.7180\n",
            "Epoch 7/10\n",
            "4000/4000 - 19s - loss: 0.3575 - accuracy: 0.8453 - val_loss: 0.6179 - val_accuracy: 0.7130\n",
            "Epoch 8/10\n",
            "4000/4000 - 19s - loss: 0.2458 - accuracy: 0.9145 - val_loss: 0.5677 - val_accuracy: 0.7270\n",
            "Epoch 9/10\n",
            "4000/4000 - 19s - loss: 0.1975 - accuracy: 0.9402 - val_loss: 0.5906 - val_accuracy: 0.7350\n",
            "Epoch 10/10\n",
            "4000/4000 - 19s - loss: 0.1777 - accuracy: 0.9488 - val_loss: 0.5894 - val_accuracy: 0.7390\n",
            "1000/1000 [==============================] - 4s 4ms/sample\n",
            "1800/1800 [==============================] - 4s 2ms/sample\n",
            "4000 1000\n",
            "Train on 4000 samples, validate on 1000 samples\n",
            "Epoch 1/10\n",
            "4000/4000 - 30s - loss: 0.6727 - accuracy: 0.5815 - val_loss: 0.6593 - val_accuracy: 0.6170\n",
            "Epoch 2/10\n",
            "4000/4000 - 19s - loss: 0.6205 - accuracy: 0.6555 - val_loss: 0.6465 - val_accuracy: 0.6260\n",
            "Epoch 3/10\n",
            "4000/4000 - 19s - loss: 0.5688 - accuracy: 0.7097 - val_loss: 0.6332 - val_accuracy: 0.6280\n",
            "Epoch 4/10\n",
            "4000/4000 - 19s - loss: 0.5241 - accuracy: 0.7385 - val_loss: 0.6467 - val_accuracy: 0.6400\n",
            "Epoch 5/10\n",
            "4000/4000 - 19s - loss: 0.4833 - accuracy: 0.7745 - val_loss: 0.6471 - val_accuracy: 0.6340\n",
            "Epoch 6/10\n",
            "4000/4000 - 19s - loss: 0.3960 - accuracy: 0.8422 - val_loss: 0.6658 - val_accuracy: 0.6310\n",
            "Epoch 7/10\n",
            "4000/4000 - 19s - loss: 0.3732 - accuracy: 0.8495 - val_loss: 0.6831 - val_accuracy: 0.6400\n",
            "Epoch 8/10\n",
            "4000/4000 - 19s - loss: 0.3531 - accuracy: 0.8615 - val_loss: 0.6782 - val_accuracy: 0.6330\n",
            "Epoch 9/10\n",
            "4000/4000 - 19s - loss: 0.3460 - accuracy: 0.8612 - val_loss: 0.6849 - val_accuracy: 0.6400\n",
            "Epoch 10/10\n",
            "4000/4000 - 19s - loss: 0.3365 - accuracy: 0.8648 - val_loss: 0.6834 - val_accuracy: 0.6330\n",
            "1000/1000 [==============================] - 4s 4ms/sample\n",
            "1800/1800 [==============================] - 4s 2ms/sample\n"
          ],
          "name": "stdout"
        }
      ]
    },
    {
      "cell_type": "code",
      "metadata": {
        "id": "74GIVwW5DSSN",
        "colab_type": "code",
        "colab": {
          "base_uri": "https://localhost:8080/",
          "height": 35
        },
        "outputId": "22eaf7c4-abeb-4c65-edea-f0443247ebc8"
      },
      "source": [
        "np.mean(f1)"
      ],
      "execution_count": 40,
      "outputs": [
        {
          "output_type": "execute_result",
          "data": {
            "text/plain": [
              "0.6318864565310063"
            ]
          },
          "metadata": {
            "tags": []
          },
          "execution_count": 40
        }
      ]
    },
    {
      "cell_type": "code",
      "metadata": {
        "id": "-DagsJtFD7bP",
        "colab_type": "code",
        "colab": {}
      },
      "source": [
        "gru_test_sub=np.mean(np.array(gru_test),axis=0)\n",
        "gru_test_sub=gru_test_sub.round()\n",
        "gru_test_sub=le.inverse_transform(gru_test_sub.ravel().astype('int16'))\n",
        "gru_test_sub=pd.DataFrame(gru_test_sub,columns=['label'])\n",
        "gru_test_sub=pd.concat([twitter_test['id'], gru_test_sub], axis=1)\n",
        "gru_test_sub.head()\n",
        "gru_test_sub.to_csv('/content/answer.txt',sep=',',index=False,header=None)\n"
      ],
      "execution_count": 0,
      "outputs": []
    },
    {
      "cell_type": "markdown",
      "metadata": {
        "id": "sY_hYh0OvM9P",
        "colab_type": "text"
      },
      "source": [
        "#test"
      ]
    },
    {
      "cell_type": "code",
      "metadata": {
        "id": "9yGAL4yBvOQo",
        "colab_type": "code",
        "colab": {}
      },
      "source": [
        ""
      ],
      "execution_count": 0,
      "outputs": []
    },
    {
      "cell_type": "code",
      "metadata": {
        "id": "r0QlWiTlvblr",
        "colab_type": "code",
        "colab": {}
      },
      "source": [
        ""
      ],
      "execution_count": 0,
      "outputs": []
    },
    {
      "cell_type": "code",
      "metadata": {
        "id": "ij_IK5Jl-AxH",
        "colab_type": "code",
        "colab": {}
      },
      "source": [
        "y_pred=y_pred.round()"
      ],
      "execution_count": 0,
      "outputs": []
    },
    {
      "cell_type": "code",
      "metadata": {
        "id": "R0wsHsFF-C0K",
        "colab_type": "code",
        "colab": {}
      },
      "source": [
        "y_pred[0:5]"
      ],
      "execution_count": 0,
      "outputs": []
    },
    {
      "cell_type": "code",
      "metadata": {
        "id": "XhmrlzSF88m4",
        "colab_type": "code",
        "colab": {}
      },
      "source": [
        "y_pred=le.inverse_transform(y_pred.ravel().astype('int16'))"
      ],
      "execution_count": 0,
      "outputs": []
    },
    {
      "cell_type": "code",
      "metadata": {
        "id": "ZjEh9Ul8_MR1",
        "colab_type": "code",
        "colab": {}
      },
      "source": [
        "y_test=pd.DataFrame(y_pred,columns=['label'])"
      ],
      "execution_count": 0,
      "outputs": []
    },
    {
      "cell_type": "code",
      "metadata": {
        "id": "1nveetOP-prp",
        "colab_type": "code",
        "colab": {}
      },
      "source": [
        "y_test=pd.concat([twitter_test['id'], y_test], axis=1)"
      ],
      "execution_count": 0,
      "outputs": []
    },
    {
      "cell_type": "code",
      "metadata": {
        "id": "5uixcIvO_QdL",
        "colab_type": "code",
        "colab": {}
      },
      "source": [
        "y_test.head()"
      ],
      "execution_count": 0,
      "outputs": []
    },
    {
      "cell_type": "code",
      "metadata": {
        "id": "g3927C1g_HdX",
        "colab_type": "code",
        "colab": {}
      },
      "source": [
        ""
      ],
      "execution_count": 0,
      "outputs": []
    },
    {
      "cell_type": "code",
      "metadata": {
        "id": "ZTtHl4Cr_lZS",
        "colab_type": "code",
        "colab": {}
      },
      "source": [
        ""
      ],
      "execution_count": 0,
      "outputs": []
    },
    {
      "cell_type": "code",
      "metadata": {
        "id": "cmE8SobV94Ej",
        "colab_type": "code",
        "colab": {}
      },
      "source": [
        ""
      ],
      "execution_count": 0,
      "outputs": []
    },
    {
      "cell_type": "code",
      "metadata": {
        "id": "wB7-YBgh9XqA",
        "colab_type": "code",
        "colab": {}
      },
      "source": [
        ""
      ],
      "execution_count": 0,
      "outputs": []
    },
    {
      "cell_type": "code",
      "metadata": {
        "id": "pI5T_a3y8niM",
        "colab_type": "code",
        "colab": {}
      },
      "source": [
        ""
      ],
      "execution_count": 0,
      "outputs": []
    }
  ]
}