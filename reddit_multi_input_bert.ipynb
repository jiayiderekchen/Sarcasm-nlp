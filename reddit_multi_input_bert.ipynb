{
  "nbformat": 4,
  "nbformat_minor": 0,
  "metadata": {
    "colab": {
      "name": "reddit_multi_input_bert.ipynb",
      "provenance": [],
      "collapsed_sections": [],
      "machine_shape": "hm",
      "include_colab_link": true
    },
    "kernelspec": {
      "name": "python3",
      "display_name": "Python 3"
    },
    "accelerator": "GPU"
  },
  "cells": [
    {
      "cell_type": "markdown",
      "metadata": {
        "id": "view-in-github",
        "colab_type": "text"
      },
      "source": [
        "<a href=\"https://colab.research.google.com/github/talhaanwarch/Sarcasm-nlp/blob/master/reddit_multi_input_bert.ipynb\" target=\"_parent\"><img src=\"https://colab.research.google.com/assets/colab-badge.svg\" alt=\"Open In Colab\"/></a>"
      ]
    },
    {
      "cell_type": "code",
      "metadata": {
        "id": "QEyCb5A6ZJPE",
        "colab_type": "code",
        "colab": {}
      },
      "source": [
        "from google.colab import drive\n",
        "drive.mount('/content/drive',force_remount=True)"
      ],
      "execution_count": 0,
      "outputs": []
    },
    {
      "cell_type": "code",
      "metadata": {
        "id": "BhD0ja60eRrW",
        "colab_type": "code",
        "colab": {}
      },
      "source": [
        "!pip install tensorflow==2.1.0\n",
        "!pip install sentencepiece\n",
        "!pip install tensorflow-hub\n",
        "!pip install tensorflow-addons\n",
        "#!wget --quiet https://raw.githubusercontent.com/google-research/ALBERT/master/tokenization.py"
      ],
      "execution_count": 0,
      "outputs": []
    },
    {
      "cell_type": "code",
      "metadata": {
        "id": "z7gSHuuqaERd",
        "colab_type": "code",
        "colab": {}
      },
      "source": [
        "cd /content/drive/My\\ Drive/dataset/sarcasm"
      ],
      "execution_count": 0,
      "outputs": []
    },
    {
      "cell_type": "code",
      "metadata": {
        "id": "M9gGhXLcaW2Y",
        "colab_type": "code",
        "colab": {}
      },
      "source": [
        "ls"
      ],
      "execution_count": 0,
      "outputs": []
    },
    {
      "cell_type": "code",
      "metadata": {
        "id": "z_XH_TQ3f3dt",
        "colab_type": "code",
        "colab": {}
      },
      "source": [
        "import pandas as pd\n",
        "import numpy as np\n",
        "from sklearn.model_selection import StratifiedKFold\n",
        "from sklearn.metrics import f1_score\n"
      ],
      "execution_count": 0,
      "outputs": []
    },
    {
      "cell_type": "code",
      "metadata": {
        "id": "DsQon6CBaXdP",
        "colab_type": "code",
        "colab": {}
      },
      "source": [
        "reddit_train=pd.read_json('sarcasm_detection_shared_task_reddit_training.jsonl',lines=True)"
      ],
      "execution_count": 0,
      "outputs": []
    },
    {
      "cell_type": "code",
      "metadata": {
        "id": "wYd47uZga3Z4",
        "colab_type": "code",
        "colab": {}
      },
      "source": [
        "reddit_train.head()"
      ],
      "execution_count": 0,
      "outputs": []
    },
    {
      "cell_type": "code",
      "metadata": {
        "id": "t9jeCHvobEHg",
        "colab_type": "code",
        "colab": {}
      },
      "source": [
        "#reddit_train['response']=reddit_train['response'].str.replace('@USER', \"\") \n",
        "reddit_train['response']=reddit_train['response'].str.replace('\\d+', '')\n",
        "reddit_train['response']=reddit_train['response'].str.lower()\n",
        "reddit_train['response']=reddit_train['response'].str.replace('[^\\w\\s]','')\n"
      ],
      "execution_count": 0,
      "outputs": []
    },
    {
      "cell_type": "code",
      "metadata": {
        "id": "rVRY4qxwckM7",
        "colab_type": "code",
        "colab": {}
      },
      "source": [
        "reddit_train.head()"
      ],
      "execution_count": 0,
      "outputs": []
    },
    {
      "cell_type": "code",
      "metadata": {
        "id": "09EVo02McTQi",
        "colab_type": "code",
        "colab": {}
      },
      "source": [
        "reddit_train['context']=reddit_train['context'].apply(lambda x: ','.join(map(str, x)))\n",
        "#reddit_train['context']=reddit_train['context'].str.replace('@USER', \"\") \n",
        "reddit_train['context']=reddit_train['context'].str.lower()\n",
        "reddit_train['context']=reddit_train['context'].str.replace('[^\\w\\s]','')\n",
        "reddit_train['context']=reddit_train['context'].str.replace('\\d+', '')\n"
      ],
      "execution_count": 0,
      "outputs": []
    },
    {
      "cell_type": "code",
      "metadata": {
        "id": "OM581aywcU06",
        "colab_type": "code",
        "colab": {}
      },
      "source": [
        "reddit_train.head()"
      ],
      "execution_count": 0,
      "outputs": []
    },
    {
      "cell_type": "code",
      "metadata": {
        "id": "FAzapEnwcHPK",
        "colab_type": "code",
        "colab": {}
      },
      "source": [
        "len(reddit_train)"
      ],
      "execution_count": 0,
      "outputs": []
    },
    {
      "cell_type": "code",
      "metadata": {
        "id": "aOggGwl_tzyF",
        "colab_type": "code",
        "colab": {}
      },
      "source": [
        "from collections import Counter\n",
        "Counter(reddit_train['label'])"
      ],
      "execution_count": 0,
      "outputs": []
    },
    {
      "cell_type": "code",
      "metadata": {
        "id": "QPlJPrRQsUnk",
        "colab_type": "code",
        "colab": {}
      },
      "source": [
        "from sklearn.preprocessing import LabelEncoder\n",
        "le=LabelEncoder()\n",
        "train_label=le.fit_transform(reddit_train['label'])"
      ],
      "execution_count": 0,
      "outputs": []
    },
    {
      "cell_type": "code",
      "metadata": {
        "id": "biiLuJCUJMQF",
        "colab_type": "code",
        "colab": {}
      },
      "source": [
        ""
      ],
      "execution_count": 0,
      "outputs": []
    },
    {
      "cell_type": "code",
      "metadata": {
        "id": "9yGAL4yBvOQo",
        "colab_type": "code",
        "colab": {}
      },
      "source": [
        "reddit_test=pd.read_json('sarcasm_detection_shared_task_reddit_testing.jsonl',lines=True)\n",
        "reddit_test.head()"
      ],
      "execution_count": 0,
      "outputs": []
    },
    {
      "cell_type": "code",
      "metadata": {
        "id": "r0QlWiTlvblr",
        "colab_type": "code",
        "colab": {}
      },
      "source": [
        "#reddit_test['response']=reddit_test['response'].str.replace('@USER', \"\") \n",
        "reddit_test['response']=reddit_test['response'].str.replace('\\d+', '')\n",
        "reddit_test['response']=reddit_test['response'].str.lower()\n",
        "reddit_test['response']=reddit_test['response'].str.replace('[^\\w\\s]','')\n",
        "reddit_test['context']=reddit_test['context'].apply(lambda x: ','.join(map(str, x)))\n",
        "#reddit_test['context']=reddit_test['context'].str.replace('@USER', \"\") \n",
        "reddit_test['context']=reddit_test['context'].str.lower()\n",
        "reddit_test['context']=reddit_test['context'].str.replace('[^\\w\\s]','')\n",
        "reddit_test['context']=reddit_test['context'].str.replace('\\d+', '')\n"
      ],
      "execution_count": 0,
      "outputs": []
    },
    {
      "cell_type": "code",
      "metadata": {
        "id": "VDjQfkKFvmKE",
        "colab_type": "code",
        "colab": {}
      },
      "source": [
        "reddit_test.head()"
      ],
      "execution_count": 0,
      "outputs": []
    },
    {
      "cell_type": "markdown",
      "metadata": {
        "id": "cq6ibth_et3B",
        "colab_type": "text"
      },
      "source": [
        "#BERT"
      ]
    },
    {
      "cell_type": "code",
      "metadata": {
        "id": "lKg0eLmGfIgc",
        "colab_type": "code",
        "colab": {}
      },
      "source": [
        "import tensorflow_hub as hub\n",
        "module_url = \"https://tfhub.dev/tensorflow/bert_en_uncased_L-24_H-1024_A-16/1\"\n",
        "bert_layer = hub.KerasLayer(module_url, trainable=True)"
      ],
      "execution_count": 0,
      "outputs": []
    },
    {
      "cell_type": "code",
      "metadata": {
        "id": "jTY8IMwEeuHS",
        "colab_type": "code",
        "colab": {}
      },
      "source": [
        "def bert_encode(texts, tokenizer, max_len=512):\n",
        "    all_tokens = []\n",
        "    all_masks = []\n",
        "    all_segments = []\n",
        "    \n",
        "    for text in texts:\n",
        "        text = tokenizer.tokenize(text)\n",
        "            \n",
        "        text = text[:max_len-2]\n",
        "        input_sequence = [\"[CLS]\"] + text + [\"[SEP]\"]\n",
        "        pad_len = max_len - len(input_sequence)\n",
        "        \n",
        "        tokens = tokenizer.convert_tokens_to_ids(input_sequence)\n",
        "        tokens += [0] * pad_len\n",
        "        pad_masks = [1] * len(input_sequence) + [0] * pad_len\n",
        "        segment_ids = [0] * max_len\n",
        "        \n",
        "        all_tokens.append(tokens)\n",
        "        all_masks.append(pad_masks)\n",
        "        all_segments.append(segment_ids)\n",
        "    \n",
        "    return np.array(all_tokens), np.array(all_masks), np.array(all_segments)"
      ],
      "execution_count": 0,
      "outputs": []
    },
    {
      "cell_type": "code",
      "metadata": {
        "id": "YloclZrLfKGM",
        "colab_type": "code",
        "colab": {}
      },
      "source": [
        "import tokenization\n",
        "vocab_file = bert_layer.resolved_object.vocab_file.asset_path.numpy()\n",
        "do_lower_case = bert_layer.resolved_object.do_lower_case.numpy()\n",
        "tokenizer = tokenization.FullTokenizer(vocab_file, do_lower_case)"
      ],
      "execution_count": 0,
      "outputs": []
    },
    {
      "cell_type": "code",
      "metadata": {
        "id": "pKJwDpe0FauE",
        "colab_type": "code",
        "colab": {}
      },
      "source": [
        "max_len=200"
      ],
      "execution_count": 0,
      "outputs": []
    },
    {
      "cell_type": "code",
      "metadata": {
        "id": "rmshsKHZfQfg",
        "colab_type": "code",
        "colab": {}
      },
      "source": [
        "train_response = bert_encode(reddit_train.response, tokenizer, max_len=max_len)\n",
        "train_context = bert_encode(reddit_train.context, tokenizer, max_len=max_len)\n",
        "train_labels=reddit_train.label.values\n",
        "#test_input = bert_encode(test_bert.values, tokenizer, max_len=160)"
      ],
      "execution_count": 0,
      "outputs": []
    },
    {
      "cell_type": "code",
      "metadata": {
        "id": "NuY1n_7FJQFN",
        "colab_type": "code",
        "colab": {}
      },
      "source": [
        ""
      ],
      "execution_count": 0,
      "outputs": []
    },
    {
      "cell_type": "code",
      "metadata": {
        "id": "UwNIe3UVvZJB",
        "colab_type": "code",
        "colab": {}
      },
      "source": [
        "test_response = bert_encode(reddit_test.response, tokenizer, max_len=max_len)\n",
        "test_context = bert_encode(reddit_test.context, tokenizer, max_len=max_len)"
      ],
      "execution_count": 0,
      "outputs": []
    },
    {
      "cell_type": "code",
      "metadata": {
        "id": "x7Kik3pDvylj",
        "colab_type": "code",
        "colab": {}
      },
      "source": [
        "test_gen=[test_context[0],test_context[1],test_context[2],test_response[0],test_response[1],test_response[2]]"
      ],
      "execution_count": 0,
      "outputs": []
    },
    {
      "cell_type": "code",
      "metadata": {
        "id": "epLdmX34iQBy",
        "colab_type": "code",
        "colab": {}
      },
      "source": [
        "from tensorflow.keras.models import Model\n",
        "from tensorflow.keras.layers import Input,concatenate,Dense,GlobalAveragePooling1D,Dropout\n",
        "from tensorflow.keras.optimizers import Adam\n",
        "import tensorflow as tf\n",
        "import tensorflow_addons as tfa"
      ],
      "execution_count": 0,
      "outputs": []
    },
    {
      "cell_type": "code",
      "metadata": {
        "id": "R4XStaKfX_jM",
        "colab_type": "code",
        "colab": {}
      },
      "source": [
        "step = tf.Variable(0, trainable=False)\n",
        "schedule = tf.optimizers.schedules.PiecewiseConstantDecay(\n",
        "    [10000, 15000], [1e-0, 1e-1, 1e-2])\n",
        "# lr and wd can be a function or a tensor\n",
        "lr = 1e-1 * schedule(step)\n",
        "wd = lambda: 1e-4 * schedule(step)\n",
        "\n",
        "# ...\n",
        "\n",
        "optimizer = tfa.optimizers.AdamW(learning_rate=lr, weight_decay=wd)"
      ],
      "execution_count": 0,
      "outputs": []
    },
    {
      "cell_type": "code",
      "metadata": {
        "id": "dunR1CHuexd-",
        "colab_type": "code",
        "colab": {}
      },
      "source": [
        "contex_input_word_ids = Input(shape=(max_len,), dtype=tf.int32, name=\"contex_input_word_ids\")\n",
        "contex_input_mask = Input(shape=(max_len,), dtype=tf.int32, name=\"contex_input_mask\")\n",
        "contex_segment_ids = Input(shape=(max_len,), dtype=tf.int32, name=\"contex_segment_ids\")\n",
        "_, context_sequence_output = bert_layer([contex_input_word_ids, contex_input_mask, contex_segment_ids])\n",
        "context_clf_output = context_sequence_output[:, 0, :]\n",
        "\n",
        "\n",
        "reponse_input_word_ids = Input(shape=(max_len,), dtype=tf.int32, name=\"reponse_input_word_ids\")\n",
        "reponse_input_mask = Input(shape=(max_len,), dtype=tf.int32, name=\"reponse_input_mask\")\n",
        "reponse_segment_ids = Input(shape=(max_len,), dtype=tf.int32, name=\"reponse_segment_ids\")\n",
        "_, reponset_sequence_output = bert_layer([reponse_input_word_ids, reponse_input_mask, reponse_segment_ids])\n",
        "reponset_clf_output = reponset_sequence_output[:, 0, :]\n",
        "\n",
        "\n",
        "\n",
        "conc=concatenate([context_clf_output,reponset_clf_output])\n",
        "conc=Dropout(0.3)(conc)\n",
        "out = Dense(1, activation='sigmoid')(conc)\n",
        "    \n",
        "model = Model(inputs=[contex_input_word_ids, contex_input_mask, contex_segment_ids,reponse_input_word_ids,reponse_input_mask,reponse_segment_ids], outputs=out)\n",
        "model.compile(Adam(1e-6), loss='binary_crossentropy', metrics=['accuracy'])\n",
        "    \n"
      ],
      "execution_count": 0,
      "outputs": []
    },
    {
      "cell_type": "code",
      "metadata": {
        "id": "WJKok855k0F3",
        "colab_type": "code",
        "colab": {}
      },
      "source": [
        "train_gen=[train_context[0],train_context[1],train_context[2],train_response[0],train_response[1],train_response[2]]"
      ],
      "execution_count": 0,
      "outputs": []
    },
    {
      "cell_type": "code",
      "metadata": {
        "id": "1cDvevkvBzb6",
        "colab_type": "code",
        "colab": {}
      },
      "source": [
        "train_history = model.fit(\n",
        "    train_gen, train_label,\n",
        "    epochs=10,\n",
        "    batch_size=4)"
      ],
      "execution_count": 0,
      "outputs": []
    },
    {
      "cell_type": "code",
      "metadata": {
        "id": "wlq0hdlXKBUC",
        "colab_type": "code",
        "colab": {}
      },
      "source": [
        "#len(train_gen),len(train_label)"
      ],
      "execution_count": 0,
      "outputs": []
    },
    {
      "cell_type": "code",
      "metadata": {
        "id": "Bf6e6w0nMTbu",
        "colab_type": "code",
        "colab": {}
      },
      "source": [
        "#train_context[0].shape"
      ],
      "execution_count": 0,
      "outputs": []
    },
    {
      "cell_type": "code",
      "metadata": {
        "id": "Lu3g2_VNIfwP",
        "colab_type": "code",
        "colab": {}
      },
      "source": [
        "# import tensorflow_addons as tfa\n",
        "# from sklearn.model_selection import StratifiedKFold\n"
      ],
      "execution_count": 0,
      "outputs": []
    },
    {
      "cell_type": "code",
      "metadata": {
        "id": "xfyQCuF6LxQg",
        "colab_type": "code",
        "colab": {}
      },
      "source": [
        "# def unpack(a, b, c, d,e,f,g): \n",
        "#     #print(a[g].shape, b[g].shape, c[g].shape, d[g].shape,e[g].shape,f[g].shape) \n",
        "#     return [a[g], b[g], c[g], d[g],e[g],f[g]]"
      ],
      "execution_count": 0,
      "outputs": []
    },
    {
      "cell_type": "code",
      "metadata": {
        "id": "VuqQzXKYPIdX",
        "colab_type": "code",
        "colab": {}
      },
      "source": [
        "#unpack(*train_gen,train)"
      ],
      "execution_count": 0,
      "outputs": []
    },
    {
      "cell_type": "code",
      "metadata": {
        "id": "WN_y6uqgX3pw",
        "colab_type": "code",
        "colab": {}
      },
      "source": [
        ""
      ],
      "execution_count": 0,
      "outputs": []
    },
    {
      "cell_type": "code",
      "metadata": {
        "id": "0ijzrJELIq5A",
        "colab_type": "code",
        "colab": {}
      },
      "source": [
        "# from sklearn.model_selection import StratifiedKFold\n",
        "# kfold = StratifiedKFold(n_splits=5, shuffle=False)\n",
        "# scores = []\n",
        "# test=[]\n",
        "# s=0\n",
        "# for train, val in kfold.split(list(zip(*train_gen)), train_label):\n",
        "#   model.fit(unpack(*train_gen,train),train_label[train],batch_size=4,epochs=5,verbose=2,\n",
        "#             validation_data=(unpack(*train_gen,val), train_label[val]))\n",
        "   \n",
        "\n",
        "#   y_pred = model.predict(unpack(*train_gen,val), batch_size=4, verbose=1)\n",
        "\n",
        "#   test.append(model.predict(test_gen, batch_size=4, verbose=1).ravel())\n",
        "\n",
        "#   y_pred = (y_pred > 0.5)\n",
        "#   f1=f1_score(train_label[val], y_pred, average='macro')\n",
        "#   s+=1\n",
        "#   print(s,' f1 score  is ',f1)\n",
        "#   scores.append(f1)\n",
        "#   tf.keras.backend.clear_session()"
      ],
      "execution_count": 0,
      "outputs": []
    },
    {
      "cell_type": "code",
      "metadata": {
        "id": "P6sF97LYki-9",
        "colab_type": "code",
        "colab": {}
      },
      "source": [
        ""
      ],
      "execution_count": 0,
      "outputs": []
    },
    {
      "cell_type": "code",
      "metadata": {
        "id": "ZTtHl4Cr_lZS",
        "colab_type": "code",
        "colab": {}
      },
      "source": [
        ""
      ],
      "execution_count": 0,
      "outputs": []
    },
    {
      "cell_type": "code",
      "metadata": {
        "id": "cmE8SobV94Ej",
        "colab_type": "code",
        "colab": {}
      },
      "source": [
        ""
      ],
      "execution_count": 0,
      "outputs": []
    },
    {
      "cell_type": "code",
      "metadata": {
        "id": "wB7-YBgh9XqA",
        "colab_type": "code",
        "colab": {}
      },
      "source": [
        ""
      ],
      "execution_count": 0,
      "outputs": []
    },
    {
      "cell_type": "code",
      "metadata": {
        "id": "pI5T_a3y8niM",
        "colab_type": "code",
        "colab": {}
      },
      "source": [
        ""
      ],
      "execution_count": 0,
      "outputs": []
    }
  ]
}